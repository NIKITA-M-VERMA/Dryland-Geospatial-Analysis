## Title: Global Dryland Assessment Data Set

### Description
The Global Dryland Assessment Data Set provides comprehensive information on dryland regions across the globe. The dataset includes geographic coordinates, aridity zones, land use categories, and tree cover information for various locations. It is crucial for understanding the distribution and characteristics of dryland regions, covering a significant portion of the Earth's surface. The dataset is compiled from multiple sources and has been pre-processed to ensure topological integrity and consistency.

### FLINT
This dataset has been pre-processed/checked and is suitable for use in FLINT. Please adhere to individual dataset license conditions and citations.

### Format
**Extent:** Global coverage  
**Format:** vector point GeoJSON (.json)  
**Coordinate system:** EPSG:4326 (WGS84)  
**Year:** 2024  
**Size:** Varies depending on the number of points  

### Original Source
Original Source: Compiled from various global dryland assessment studies and reports.  
Vector - point (Feature Class, GeoJSON)

### License
Users may use and redistribute these data without explicit written permission, provided they adhere to the relevant restrictions and citation requirements. Users are advised to consult the data documentation for further information.

### Citation
Global Dryland Assessment Data Set (2024). Accessed from [https://www.science.org/doi/10.1126/science.aam6527](https://www.science.org/doi/10.1126/science.aam6527)

### Metadata

#### Columns:
- `location_x`: Longitude of the location
- `location_y`: Latitude of the location
- `dryland_assessment_region`: Name of the dryland assessment region
- `Aridity_zone`: Aridity zone classification
- `land_use_category`: Land use category of the location
- `tree_cover`: Tree cover percentage

### Notes
Known issues: Ensure consistency of tree cover data across different regions and years. Potential discrepancies in land use categories due to different classification systems used in source data.

### Processing
The dataset was transformed to EPSG:4326 (WGS84) and saved as GeoJSON format. The coordinates and attribute data were checked for consistency and accuracy.

